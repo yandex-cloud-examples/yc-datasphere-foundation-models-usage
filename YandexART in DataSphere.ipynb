{
 "cells": [
  {
   "cell_type": "markdown",
   "id": "be280d6a",
   "metadata": {
    "cellId": "7aglmagzjnqs2e5zonw7z",
    "execution_id": "b230d200-8752-47fb-8752-108ca4578052"
   },
   "source": [
    "# YandexART в DataSphere\n",
    "\n",
    "Вы можете обращаться к модели YandexART из ноутбуков DataSphere через API. \n",
    "\n",
    "**API YandexART находится на стадии Preview.**"
   ]
  },
  {
   "cell_type": "markdown",
   "id": "5abc0135",
   "metadata": {
    "cellId": "8bqycgilj0smz1otxxckn",
    "execution_id": "1f8e376a-4754-4c61-8afc-5a1b86deb016"
   },
   "source": [
    "## Содержание\n",
    "\n",
    "1. [Установите зависимости](#section-id1).\n",
    "2. [Настройте подключение к облаку](#section-id2).\n",
    "3. [Обратитесь к модели](#section-id3).\n",
    "4. [Примеры промптов для YandexART](#section-id4)."
   ]
  },
  {
   "cell_type": "markdown",
   "id": "f2386995",
   "metadata": {
    "cellId": "kgdukpiu1etc2km8zpatv7",
    "execution_id": "a0263450-fdd6-46e9-b763-e9b6a1adcf45"
   },
   "source": [
    "<a id='section-id1'></a>\n",
    "## Установите зависимости \n",
    "После выполнения ячейки перезагрузите ядро (**Kernel -> Reset Kernel**).После выполнения ячейки перезагрузите ядро (**Kernel -> Reset Kernel**)."
   ]
  },
  {
   "cell_type": "code",
   "execution_count": null,
   "id": "310b43ee",
   "metadata": {
    "cellId": "on3ysaxi3kj14fvntm9t5n",
    "tags": []
   },
   "outputs": [],
   "source": [
    "# Устанавливаем пакеты, необходимые для обращения к YandexART\n",
    "\n",
    "%pip uninstall jwt\n",
    "%pip install PyJWT -U"
   ]
  },
  {
   "cell_type": "code",
   "execution_count": null,
   "id": "79e87a46",
   "metadata": {
    "cellId": "r7mv26wg35ieg9aw8nytw6",
    "tags": []
   },
   "outputs": [],
   "source": [
    "import requests\n",
    "import json\n",
    "import time\n",
    "import jwt\n",
    "import base64\n",
    "import os"
   ]
  },
  {
   "cell_type": "markdown",
   "id": "92a9a48c",
   "metadata": {
    "cellId": "pmxjwlpihbrjw5xkccht9",
    "execution_id": "8f9831e2-6855-4a0b-b332-df5e947cc069"
   },
   "source": [
    "<a id='section-id2'></a>\n",
    "## Настройте подключение к облаку"
   ]
  },
  {
   "cell_type": "markdown",
   "id": "5299bda7",
   "metadata": {
    "cellId": "h4t9nwbm85clqvmx7qnv6",
    "execution_id": "5f71c7ff-5c86-45a2-bfa5-c06d6accffaa"
   },
   "source": [
    "Чтобы обратиться к API YandexART, вам потребуется сервисный аккаунт с ролью `ai.imageGeneration.user` в облаке.\n",
    "1. Создайте сервисный аккаунт, как описано в [инструкции](https://cloud.yandex.ru/docs/iam/operations/sa/create).\n",
    "2. В ячейке ниже укажите идентификатор сервисного аккаунта."
   ]
  },
  {
   "cell_type": "code",
   "execution_count": null,
   "id": "4d5cedd6",
   "metadata": {
    "cellId": "zxrob3horhtfb3isb0btn",
    "tags": []
   },
   "outputs": [],
   "source": [
    "service_account_id = \"идентификатор_сервисного_аккаунта\""
   ]
  },
  {
   "cell_type": "markdown",
   "id": "2e1f0793",
   "metadata": {
    "cellId": "pfhg9jbcyg8sz1msi8js7i",
    "execution_id": "bc7de8a4-dd51-4ba9-8846-c425c2aeb700"
   },
   "source": [
    "3. [Создайте](https://cloud.yandex.ru/docs/iam/operations/authorized-key/create) авторизованный ключ для сервисного аккаунта. \n",
    "4. Сохраните значение ключа в секрете `private-key`. [Как создать секрет](https://cloud.yandex.ru/docs/datasphere/operations/data/secrets).\n",
    "5. Идентификатор ключа укажите в ячейке ниже."
   ]
  },
  {
   "cell_type": "code",
   "execution_count": null,
   "id": "26b7433f",
   "metadata": {
    "cellId": "h5sjrgpu45h4qfltfxkrp8",
    "tags": []
   },
   "outputs": [],
   "source": [
    "key_id = \"идентификатор_ключа\"\n",
    "private_key = os.environ['private-key']"
   ]
  },
  {
   "cell_type": "markdown",
   "id": "3e713fd6",
   "metadata": {
    "cellId": "byefhlnswfhwon6wvausn",
    "execution_id": "abffaccf-f3eb-4ad9-aa47-c16fe590fbc5"
   },
   "source": [
    "7. Получите IAM-токен для сервисного аккаунта."
   ]
  },
  {
   "cell_type": "code",
   "execution_count": null,
   "id": "4bd0ec6f",
   "metadata": {
    "cellId": "1stqgqxtc9jj5w5yji3ycyd",
    "tags": []
   },
   "outputs": [],
   "source": [
    "now = int(time.time())\n",
    "payload = {\n",
    "        'aud': 'https://iam.api.cloud.yandex.net/iam/v1/tokens',\n",
    "        'iss': service_account_id,\n",
    "        'iat': now,\n",
    "        'exp': now + 360}\n",
    "\n",
    "# Формирование JWT\n",
    "encoded_token = jwt.encode(\n",
    "    payload,\n",
    "    private_key,\n",
    "    algorithm='PS256',\n",
    "    headers={'kid': key_id})\n",
    "\n",
    "url = 'https://iam.api.cloud.yandex.net/iam/v1/tokens'\n",
    "x = requests.post(url,  headers={'Content-Type': 'application/json'}, json = {'jwt': encoded_token}).json()\n",
    "token = x['iamToken']"
   ]
  },
  {
   "cell_type": "markdown",
   "id": "271b6df4",
   "metadata": {
    "cellId": "28orjqgwmg2nt661nmb7m",
    "execution_id": "c8e56ae9-bd38-448a-819b-dcff148e1ec4"
   },
   "source": [
    "<a id='section-id3'></a>\n",
    "## Обратитесь к модели"
   ]
  },
  {
   "cell_type": "markdown",
   "id": "eb89f414",
   "metadata": {
    "cellId": "e3rcysm8k55u2lyz1ayzj",
    "execution_id": "a27715b3-7742-434b-9e24-56ac8e196cda"
   },
   "source": [
    "Обращение к моделям осуществляется по URI. Дополнительная информация моделях YandexART доступна [в документации](https://yandex.cloud/ru/docs/foundation-models/concepts/yandexart/)."
   ]
  },
  {
   "cell_type": "markdown",
   "id": "92015b2a-d4be-4365-81fb-a4ef32d93d80",
   "metadata": {},
   "source": [
    "Создадим счетчик, чтобы сохранять сгенерированные изображения под разными именами."
   ]
  },
  {
   "cell_type": "code",
   "execution_count": null,
   "id": "7ee5f6d1-bfa8-4ff5-a63e-d66664b10fb3",
   "metadata": {
    "tags": []
   },
   "outputs": [],
   "source": [
    "counter = 0"
   ]
  },
  {
   "cell_type": "markdown",
   "id": "aa5f9476-6daa-4a9c-95c1-14e6947a5e9a",
   "metadata": {
    "execution": {
     "iopub.execute_input": "2024-05-28T18:39:59.111900Z",
     "iopub.status.busy": "2024-05-28T18:39:59.110595Z",
     "iopub.status.idle": "2024-05-28T18:39:59.127951Z",
     "shell.execute_reply": "2024-05-28T18:39:59.126819Z",
     "shell.execute_reply.started": "2024-05-28T18:39:59.111852Z"
    },
    "tags": []
   },
   "source": [
    "**Код ниже можно исполнять неограниченное число раз. Предыдущие генерации будут сохраняться в текущем каталоге.**"
   ]
  },
  {
   "cell_type": "code",
   "execution_count": null,
   "id": "a76bc77f",
   "metadata": {
    "cellId": "igjzfxdb1pimvlxuud7ip",
    "tags": []
   },
   "outputs": [],
   "source": [
    "# Адрес для обращения к модели \n",
    "url = 'https://llm.api.cloud.yandex.net/foundationModels/v1/imageGenerationAsync'\n",
    "\n",
    "data = {}\n",
    "\n",
    "# Указываем URI модели. Замените <идентификатор_каталога> своим значением\n",
    "data['modelUri'] = \"art://<идентификатор_каталога>/yandex-art/latest\""
   ]
  },
  {
   "cell_type": "markdown",
   "id": "9c26bb55-1925-4830-a09b-cd7db3dfd6de",
   "metadata": {},
   "source": [
    "Сгененировать разные изображения с одной и той же инструкцией можно, если изменять значение праметра `seed`."
   ]
  },
  {
   "cell_type": "code",
   "execution_count": null,
   "id": "9a988459-d8fd-4872-87dc-5dab3b0be252",
   "metadata": {
    "tags": []
   },
   "outputs": [],
   "source": [
    "# Настраиваем дополнительные параметры модели\n",
    "data['generationOptions'] = {'seed': 12345678910}\n",
    "\n",
    "# Указываем контекст для модели\n",
    "data['messages'] = [\n",
    "    {\n",
    "        \"weigth\": 1,\n",
    "        \"text\": \"узор из цветных пастельных суккулентов разных сортов, hd full wallpaper, четкий фокус, множество сложных деталей, глубина кадра, вид сверху\"\n",
    "    },\n",
    "]\n",
    "\n",
    "# Получаем ответ модели\n",
    "response = requests.post(url, headers={'Authorization': 'Bearer ' + token}, json = data).json()\n",
    "response"
   ]
  },
  {
   "cell_type": "markdown",
   "id": "8e1e93cd-e3d6-4b43-81ab-46016881df74",
   "metadata": {},
   "source": [
    "Генерация изображения может занимать до нескольких минут. Подождите некоторое время и отправьте запрос, чтобы получить результат генерации. Если изображение готово, результат вернется в кодировке Base64 и будет записан в файл image.jpeg."
   ]
  },
  {
   "cell_type": "code",
   "execution_count": null,
   "id": "c822763e-fb06-4a7a-bb5a-602622deeed6",
   "metadata": {
    "tags": []
   },
   "outputs": [],
   "source": [
    "seconds = 30\n",
    "\n",
    "time.sleep(seconds)"
   ]
  },
  {
   "cell_type": "code",
   "execution_count": null,
   "id": "8e8c16e4-4206-4f13-abdf-81b97aacd7e9",
   "metadata": {
    "tags": []
   },
   "outputs": [],
   "source": [
    "request_id = response.get('id')\n",
    "\n",
    "# URL для запроса\n",
    "url = f\"https://llm.api.cloud.yandex.net:443/operations/{request_id}\"\n",
    "\n",
    "# Заголовки запроса\n",
    "headers = {\n",
    "    \"Authorization\": f\"Bearer {token}\"\n",
    "}\n",
    "\n",
    "# Отправка GET-запроса\n",
    "response = requests.get(url, headers=headers)\n",
    "\n",
    "# Проверка успешного выполнения запроса\n",
    "if response.status_code == 200:\n",
    "    # Получение JSON-ответа\n",
    "    json_response = response.json()\n",
    "    \n",
    "    # Извлечение закодированного изображения\n",
    "    encoded_image = json_response.get('response', {}).get('image')\n",
    "    \n",
    "    if encoded_image:\n",
    "        # Декодирование изображения из base64\n",
    "        image_data = base64.b64decode(encoded_image)\n",
    "        \n",
    "        # Сохранение изображения в файл с именем image{counter}.jpeg\n",
    "        image_filename = f'image-{counter}.jpeg'\n",
    "        with open(image_filename, 'wb') as image_file:\n",
    "            image_file.write(image_data)\n",
    "        \n",
    "        print(f\"Изображение успешно сохранено: '{image_filename}'\")\n",
    "        \n",
    "        # Увеличение счетчика\n",
    "        counter += 1\n",
    "    else:\n",
    "        print(\"Изображение еще не готово.\")\n",
    "else:\n",
    "    print(f\"Ошибка при выполнении запроса: {response.status_code}\")"
   ]
  },
  {
   "cell_type": "code",
   "execution_count": null,
   "id": "225e361c-ef9e-4ca8-8932-7fa70035d35c",
   "metadata": {
    "tags": []
   },
   "outputs": [],
   "source": [
    "from IPython.display import Image, display\n",
    "\n",
    "# Открытие последней сохраненной картинки\n",
    "image_filename = f'image-{counter - 1}.jpeg'\n",
    "Image(filename=image_filename)\n"
   ]
  },
  {
   "cell_type": "markdown",
   "id": "43c4f5b1-1b11-49bc-93d7-0812b2d75501",
   "metadata": {
    "tags": []
   },
   "source": [
    "#### Примеры промтов для решения различные задачи с помощью YandexART доступны в [библиотеке промтов](https://yandex.cloud/ru/docs/foundation-models/prompts/yandexart)"
   ]
  },
  {
   "cell_type": "code",
   "execution_count": null,
   "id": "f62b500a-5025-4120-8186-be41c5a1bfe8",
   "metadata": {},
   "outputs": [],
   "source": []
  }
 ],
 "metadata": {
  "kernelspec": {
   "display_name": "DataSphere Kernel",
   "language": "python",
   "name": "python3"
  },
  "language_info": {
   "codemirror_mode": {
    "name": "ipython",
    "version": 3
   },
   "file_extension": ".py",
   "mimetype": "text/x-python",
   "name": "python",
   "nbconvert_exporter": "python",
   "pygments_lexer": "ipython3",
   "version": "3.10.12"
  },
  "notebookId": "22d3a564-def7-415a-bb56-358e61a7a39e",
  "notebookPath": "YandexGPT-api-call.ipynb"
 },
 "nbformat": 4,
 "nbformat_minor": 5
}
