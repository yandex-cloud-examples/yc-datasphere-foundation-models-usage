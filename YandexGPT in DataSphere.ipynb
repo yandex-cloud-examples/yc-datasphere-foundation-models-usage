{
 "cells": [
  {
   "cell_type": "markdown",
   "id": "be280d6a",
   "metadata": {
    "cellId": "7aglmagzjnqs2e5zonw7z",
    "execution_id": "b230d200-8752-47fb-8752-108ca4578052"
   },
   "source": [
    "# YandexGPT в DataSphere\n",
    "\n",
    "Вы можете обращаться к модели YandexGPT из ноутбуков DataSphere через API. \n",
    "\n",
    "**YandexGPT API находится на стадии Preview.**"
   ]
  },
  {
   "cell_type": "markdown",
   "id": "5abc0135",
   "metadata": {
    "cellId": "8bqycgilj0smz1otxxckn",
    "execution_id": "1f8e376a-4754-4c61-8afc-5a1b86deb016"
   },
   "source": [
    "## Содержание\n",
    "\n",
    "1. [Установите зависимости](#section-id1).\n",
    "2. [Настройте подключение к облаку](#section-id2).\n",
    "3. [Обратитесь к модели](#section-id3).\n",
    "4. [Примеры промптов для YandexGPT](#section-id4)."
   ]
  },
  {
   "cell_type": "markdown",
   "id": "f2386995",
   "metadata": {
    "cellId": "kgdukpiu1etc2km8zpatv7",
    "execution_id": "a0263450-fdd6-46e9-b763-e9b6a1adcf45"
   },
   "source": [
    "<a id='section-id1'></a>\n",
    "## Установите зависимости \n",
    "\n",
    "После выполнения ячейки перезагрузите ядро (**Kernel -> Reset Kernel**).После выполнения ячейки перезагрузите ядро (**Kernel -> Reset Kernel**)."
   ]
  },
  {
   "cell_type": "code",
   "execution_count": null,
   "id": "310b43ee",
   "metadata": {
    "cellId": "on3ysaxi3kj14fvntm9t5n"
   },
   "outputs": [],
   "source": [
    "# Устанавливаем пакеты, необходимые для обращения к YandexGPT\n",
    "%pip uninstall jwt\n",
    "%pip install PyJWT -U"
   ]
  },
  {
   "cell_type": "code",
   "execution_count": null,
   "id": "79e87a46",
   "metadata": {
    "cellId": "r7mv26wg35ieg9aw8nytw6"
   },
   "outputs": [],
   "source": [
    "import requests\n",
    "import json\n",
    "import time\n",
    "import jwt\n",
    "import os"
   ]
  },
  {
   "cell_type": "markdown",
   "id": "92a9a48c",
   "metadata": {
    "cellId": "pmxjwlpihbrjw5xkccht9",
    "execution_id": "8f9831e2-6855-4a0b-b332-df5e947cc069"
   },
   "source": [
    "<a id='section-id2'></a>\n",
    "## Настройте подключение к облаку"
   ]
  },
  {
   "cell_type": "markdown",
   "id": "5299bda7",
   "metadata": {
    "cellId": "h4t9nwbm85clqvmx7qnv6",
    "execution_id": "5f71c7ff-5c86-45a2-bfa5-c06d6accffaa"
   },
   "source": [
    "Чтобы обратиться к API YandexGPT, вам потребуется сервисный аккаунт с ролью `ai.languageModels.user` в облаке.\n",
    "1. Создайте сервисный аккаунт, как описано в [инструкции](https://cloud.yandex.ru/docs/iam/operations/sa/create).\n",
    "2. В ячейке ниже укажите идентификатор сервисного аккаунта."
   ]
  },
  {
   "cell_type": "code",
   "execution_count": null,
   "id": "4d5cedd6",
   "metadata": {
    "cellId": "zxrob3horhtfb3isb0btn",
    "tags": []
   },
   "outputs": [],
   "source": [
    "service_account_id = \"<идентификатор_сервисного_аккаунта>\""
   ]
  },
  {
   "cell_type": "markdown",
   "id": "2e1f0793",
   "metadata": {
    "cellId": "pfhg9jbcyg8sz1msi8js7i",
    "execution_id": "bc7de8a4-dd51-4ba9-8846-c425c2aeb700"
   },
   "source": [
    "3. [Создайте](https://cloud.yandex.ru/docs/iam/operations/authorized-key/create) авторизованный ключ для сервисного аккаунта. \n",
    "4. Сохраните значение ключа в секрете `private-key`. [Как создать секрет](https://cloud.yandex.ru/docs/datasphere/operations/data/secrets).\n",
    "5. Идентификатор ключа укажите в ячейке ниже."
   ]
  },
  {
   "cell_type": "code",
   "execution_count": null,
   "id": "26b7433f",
   "metadata": {
    "cellId": "h5sjrgpu45h4qfltfxkrp8",
    "tags": []
   },
   "outputs": [],
   "source": [
    "key_id = \"<идентификатор_ключа>\"\n",
    "private_key = os.environ['private-key']"
   ]
  },
  {
   "cell_type": "markdown",
   "id": "3e713fd6",
   "metadata": {
    "cellId": "byefhlnswfhwon6wvausn",
    "execution_id": "abffaccf-f3eb-4ad9-aa47-c16fe590fbc5"
   },
   "source": [
    "7. Получите IAM-токен для сервисного аккаунта."
   ]
  },
  {
   "cell_type": "code",
   "execution_count": null,
   "id": "4bd0ec6f",
   "metadata": {
    "cellId": "1stqgqxtc9jj5w5yji3ycyd"
   },
   "outputs": [],
   "source": [
    "now = int(time.time())\n",
    "payload = {\n",
    "        'aud': 'https://iam.api.cloud.yandex.net/iam/v1/tokens',\n",
    "        'iss': service_account_id,\n",
    "        'iat': now,\n",
    "        'exp': now + 360}\n",
    "\n",
    "# Формирование JWT\n",
    "encoded_token = jwt.encode(\n",
    "    payload,\n",
    "    private_key,\n",
    "    algorithm='PS256',\n",
    "    headers={'kid': key_id})\n",
    "\n",
    "url = 'https://iam.api.cloud.yandex.net/iam/v1/tokens'\n",
    "x = requests.post(url,  headers={'Content-Type': 'application/json'}, json = {'jwt': encoded_token}).json()\n",
    "token = x['iamToken']"
   ]
  },
  {
   "cell_type": "markdown",
   "id": "271b6df4",
   "metadata": {
    "cellId": "28orjqgwmg2nt661nmb7m",
    "execution_id": "c8e56ae9-bd38-448a-819b-dcff148e1ec4"
   },
   "source": [
    "<a id='section-id3'></a>\n",
    "## Обратитесь к модели"
   ]
  },
  {
   "cell_type": "markdown",
   "id": "eb89f414",
   "metadata": {
    "cellId": "e3rcysm8k55u2lyz1ayzj",
    "execution_id": "a27715b3-7742-434b-9e24-56ac8e196cda"
   },
   "source": [
    "В Yandex Cloud доступны модели YandexGPT и YandexGPT Lite. Обращение к моделям происходит по URI. Дополнительная информация о моделях YandexGPT доступна в [документации](https://yandex.cloud/ru/docs/foundation-models/concepts/yandexgpt/models)."
   ]
  },
  {
   "cell_type": "code",
   "execution_count": null,
   "id": "a76bc77f",
   "metadata": {
    "cellId": "igjzfxdb1pimvlxuud7ip",
    "tags": []
   },
   "outputs": [],
   "source": [
    "# Адрес для обращения к модели \n",
    "\n",
    "url = 'https://llm.api.cloud.yandex.net/foundationModels/v1/completion'\n",
    "\n",
    "data = {}\n",
    "\n",
    "# Указываем URI модели. Замените <идентификатор_каталога> своим значением\n",
    "data['modelUri'] = 'gpt://<идентификатор_каталога>/yandexgpt-lite'\n",
    "\n",
    "# Настраиваем дополнительные параметры модели\n",
    "data['completionOptions'] = {'stream': False,\n",
    "                             'temperature': 0.3,\n",
    "                             'maxTokens': 1000}\n",
    "\n",
    "# Указываем контекст для модели\n",
    "data['messages'] = [\n",
    "    {\n",
    "        \"role\": \"system\",\n",
    "        \"text\": \"Ты — рекрутер в указанной компании. \\\n",
    "        Имитируй собеседование на работу для указанной должности,\\\n",
    "        задавая вопросы, как будто ты потенциальный работодатель.\\\n",
    "        Твоя задача — определить технические навыки кандидата. \\\n",
    "        Сгенерируй вопросы для интервью с потенциальным кандидатом.\"\n",
    "    }, \n",
    "    {\n",
    "        \"role\": \"user\",\n",
    "        \"text\": \"Компания: Яндекс. Должность: бэкенд-разработчик.\"\n",
    "    }\n",
    "]\n",
    "\n",
    "# Получаем ответ модели\n",
    "response = requests.post(url, headers={'Authorization': 'Bearer ' + token}, json = data).json()"
   ]
  },
  {
   "cell_type": "code",
   "execution_count": null,
   "id": "0317fd45-309f-4c9e-9d21-41897ff5a480",
   "metadata": {
    "tags": []
   },
   "outputs": [],
   "source": [
    "response"
   ]
  },
  {
   "cell_type": "markdown",
   "id": "43c4f5b1-1b11-49bc-93d7-0812b2d75501",
   "metadata": {},
   "source": [
    "#### Примеры промтов для решения различных задач с помощью YandexGPT доступны в [библиотеке промтов YandexGPT API](https://yandex.cloud/ru/docs/foundation-models/prompts/yandexgpt/)"
   ]
  },
  {
   "cell_type": "markdown",
   "id": "78c81674",
   "metadata": {
    "cellId": "24zre0wa5ks75i0xuvw42t",
    "execution_id": "a4b49005-f750-4be9-92dc-2a10d6e3375b"
   },
   "source": [
    "### Краткий пересказ текстов, хранящихся в объектном хранилище "
   ]
  },
  {
   "cell_type": "markdown",
   "id": "c690363a",
   "metadata": {
    "cellId": "okb6s66e3yh31vvvnhvbjr",
    "execution_id": "3c4fa4e4-2868-4b58-b4b8-e45d87c1beee"
   },
   "source": [
    "Чтобы обращаться к данным в бакете объектного хранилища, [настройте коннектор S3](https://cloud.yandex.ru/docs/datasphere/operations/data/connect-to-s3).\n",
    "После того, как коннектор S3 будет активирован в проекте, укажите путь к файлу в бакете в ячейке ниже. "
   ]
  },
  {
   "cell_type": "code",
   "execution_count": null,
   "id": "6fbb84f5",
   "metadata": {
    "cellId": "mcyiitst0bu222k8z0gdl"
   },
   "outputs": [],
   "source": [
    "s3_path = \"/home/jupyter/mnt/s3/texts-for-gpt\"\n",
    "files = os.listdir(s3_path)\n",
    "files"
   ]
  },
  {
   "cell_type": "code",
   "execution_count": null,
   "id": "01fecf67",
   "metadata": {
    "cellId": "9sny5nrxfy7rsqin6zt4ds",
    "tags": []
   },
   "outputs": [],
   "source": [
    "# Замените <идентификатор_каталога> своим значением\n",
    "def request(data):\n",
    "    url = 'https://llm.api.cloud.yandex.net/foundationModels/v1/completion'\n",
    "    response = requests.post(url, headers={'Authorization': 'Bearer ' + token, \n",
    "                                           'X-folder-id': '<идентификатор_каталога>'}, json = data).json()\n",
    "    return response"
   ]
  },
  {
   "cell_type": "code",
   "execution_count": null,
   "id": "e4b11b99-e7a3-4326-b8da-baa22e9e3529",
   "metadata": {},
   "outputs": [],
   "source": [
    "data = {}\n",
    "\n",
    "# Указываем URI модели\n",
    "data['modelUri'] = 'gpt://<идентификатор_каталога>/summarization'\n",
    "\n",
    "# Настраиваем дополнительные параметры модели\n",
    "data['completionOptions'] = {'stream': False,\n",
    "                             'temperature': 0.1,\n",
    "                             'maxTokens': 2000} "
   ]
  },
  {
   "cell_type": "code",
   "execution_count": null,
   "id": "5805fe4a",
   "metadata": {
    "cellId": "on1cbca1v6rvnzmr1m7cz"
   },
   "outputs": [],
   "source": [
    "# Для каждого файла в бакете делаем обращение к модели и возвращаем результат\n",
    "\n",
    "for file_name in files:\n",
    "    with open(os.path.join(s3_path, file_name), 'r') as file:\n",
    "        data['messages'] = [{\n",
    "            \"role\": \"user\",\n",
    "            \"text\": file.read().rstrip()\n",
    "        }]\n",
    "    response = request(data)\n",
    "    print(\"Пересказ текста для файла \", file_name, \": \\n\")\n",
    "    print(response['result']['alternatives'][0]['text'], \"\\n\\n\")\n",
    "    time.sleep(10)"
   ]
  },
  {
   "cell_type": "markdown",
   "id": "67bacb57",
   "metadata": {
    "cellId": "1prjh9sle0430bnhq4dah8",
    "execution_id": "c7c80f41-a8c7-469a-9ca9-97a493e992dc"
   },
   "source": [
    "### Обработка файлов, хранящихся на Яндекс Диске"
   ]
  },
  {
   "cell_type": "markdown",
   "id": "4ecfce4f",
   "metadata": {
    "cellId": "u72htt7gyw60na5cyada",
    "execution_id": "e98f7e15-bc74-4530-ada7-008f488b5e5c"
   },
   "source": [
    "1. Установите необходимые зависимости."
   ]
  },
  {
   "cell_type": "code",
   "execution_count": null,
   "id": "18ae371e",
   "metadata": {
    "cellId": "lpgftufkho7thel07yzkog",
    "tags": []
   },
   "outputs": [],
   "source": [
    "%pip install requests "
   ]
  },
  {
   "cell_type": "code",
   "execution_count": null,
   "id": "df7c45db",
   "metadata": {
    "cellId": "i3xv06igh8fzk1dkzy2b",
    "tags": []
   },
   "outputs": [],
   "source": [
    "import requests\n",
    "from urllib.parse import urlencode\n",
    "from io import BytesIO\n",
    "from zipfile import ZipFile"
   ]
  },
  {
   "cell_type": "markdown",
   "id": "1a2c5bab",
   "metadata": {
    "cellId": "ffjqzuefftj60f0u5xgxe5",
    "execution_id": "9733bd52-9219-413d-bd40-59d68a6007b0"
   },
   "source": [
    "2. Настройте подключение к Яндекс Диску по [инструкции](https://cloud.yandex.ru/docs/datasphere/operations/data/connect-to-ya-disk)."
   ]
  },
  {
   "cell_type": "code",
   "execution_count": null,
   "id": "843fee0b",
   "metadata": {
    "cellId": "q2clb6w0vhsoqbi8qwy1ac",
    "tags": []
   },
   "outputs": [],
   "source": [
    "base_url = 'https://cloud-api.yandex.net/v1/disk/public/resources/download?'\n",
    "public_key = '<ссылка_на_файл_на_Яндекс_Диске>'\n",
    "\n",
    "final_url = base_url + urlencode(dict(public_key=public_key))\n",
    "response = requests.get(final_url)\n",
    "download_url = response.json()['href']\n",
    "response = requests.get(download_url)\n",
    "\n",
    "dist_path = './'\n",
    "zipfile = ZipFile(BytesIO(response.content))\n",
    "zipfile.extractall(path=dist_path)"
   ]
  },
  {
   "cell_type": "code",
   "execution_count": null,
   "id": "10b3d0c3",
   "metadata": {
    "cellId": "oonjlb6ennhbku4gj9xru",
    "tags": []
   },
   "outputs": [],
   "source": [
    "path_files = \"gpt_demo\" #Укажите название папки, скачанной с Яндекс Диска\n",
    "files = os.listdir(path_files)\n",
    "files"
   ]
  },
  {
   "cell_type": "code",
   "execution_count": null,
   "id": "24290cb1-526b-482a-888a-0976ced9e883",
   "metadata": {},
   "outputs": [],
   "source": [
    "data = {}\n",
    "\n",
    "# Указываем тип модели\n",
    "#'gpt://<идентификатор_каталога>/summarization'\n",
    "data['modelUri'] = 'gpt://<идентификатор_каталога>/summarization'\n",
    "\n",
    "# Настраиваем дополнительные параметры модели\n",
    "data['completionOptions'] = {'stream': False,\n",
    "                             'temperature': 0.1,\n",
    "                             'maxTokens': 2000}\n"
   ]
  },
  {
   "cell_type": "code",
   "execution_count": null,
   "id": "3fa2fc35",
   "metadata": {
    "cellId": "md8iqm962n73q8o2ewr7v",
    "tags": []
   },
   "outputs": [],
   "source": [
    "# Для каждого файла, скачанного с Яндекс Диска, делаем обращение к модели и возвращаем результат\n",
    "\n",
    "for file_name in files:\n",
    "    with open(os.path.join(path_files, file_name), 'r') as file:\n",
    "        data['messages'] = [{\n",
    "            \"role\": \"user\",\n",
    "            \"text\": file.read().rstrip()\n",
    "        }]\n",
    "    response = request(data)\n",
    "    print(\"Пересказ текста для файла \", file_name, \": \\n\")\n",
    "    print(response['result'], \"\\n\\n\")\n",
    "    time.sleep(10)"
   ]
  }
 ],
 "metadata": {
  "kernelspec": {
   "display_name": "DataSphere Kernel",
   "language": "python",
   "name": "python3"
  },
  "language_info": {
   "codemirror_mode": {
    "name": "ipython",
    "version": 3
   },
   "file_extension": ".py",
   "mimetype": "text/x-python",
   "name": "python",
   "nbconvert_exporter": "python",
   "pygments_lexer": "ipython3",
   "version": "3.10.12"
  },
  "notebookId": "22d3a564-def7-415a-bb56-358e61a7a39e",
  "notebookPath": "YandexGPT-api-call.ipynb"
 },
 "nbformat": 4,
 "nbformat_minor": 5
}
