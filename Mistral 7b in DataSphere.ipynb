{
 "cells": [
  {
   "cell_type": "markdown",
   "id": "bbc3057c-b54e-422a-afa9-74330d8fd3a1",
   "metadata": {
    "execution": {
     "iopub.execute_input": "2024-03-05T12:34:08.067070Z",
     "iopub.status.busy": "2024-03-05T12:34:08.066024Z",
     "iopub.status.idle": "2024-03-05T12:34:08.085147Z",
     "shell.execute_reply": "2024-03-05T12:34:08.083664Z",
     "shell.execute_reply.started": "2024-03-05T12:34:08.067034Z"
    }
   },
   "source": [
    "# LLM Mistral-7B-Instruct-v0.3 в DataSphere\n",
    "Автор модели [mistralai](https://mistral.ai/).\n",
    "\n",
    "Источник [mistralai/Mistral-7B-Instruct-v0.3 на huggingface](https://huggingface.co/mistralai/Mistral-7B-Instruct-v0.3)."
   ]
  },
  {
   "cell_type": "markdown",
   "id": "fa15b591-fd46-4674-95c6-975069eeeb59",
   "metadata": {},
   "source": [
    "### Требования\n",
    "\n",
    "1. 30 ГБ свободного места в хранилище проекта.\n",
    "2. Минимальная конфигурация вычислительных ресурсов — g1.1 (1 карта GPU NVIDIA® Tesla® V100). \n",
    "3. Токен доступа от huggingface.co, сохраненный в проекте в секрете `huggingface_key`.\n",
    "4. Принятые условия использования модели [mistralai/Mistral-7B-Instruct-v0.3](https://huggingface.co/mistralai/Mistral-7B-Instruct-v0.3) на сайте huggingface.co."
   ]
  },
  {
   "cell_type": "markdown",
   "id": "859bb5cb-6949-486e-a3d7-82f01543db2c",
   "metadata": {
    "tags": []
   },
   "source": [
    "### Устанавливаем библиотеки\n",
    "\n",
    "После выполнения ячейки перезагрузите ядро (**Kernel -> Reset Kernel**)."
   ]
  },
  {
   "cell_type": "code",
   "execution_count": null,
   "id": "88e95ab7-2852-41de-9904-9cd43685c1dd",
   "metadata": {
    "tags": []
   },
   "outputs": [],
   "source": [
    "%pip install transformers sentencepiece"
   ]
  },
  {
   "cell_type": "markdown",
   "id": "3398c1df-429b-4096-a9dc-c6bc11139877",
   "metadata": {},
   "source": [
    "### Определяем токен для доступа к huggingface.co"
   ]
  },
  {
   "cell_type": "code",
   "execution_count": null,
   "id": "875d4274-e00a-4ddb-ba2e-e8ab913e9047",
   "metadata": {
    "tags": []
   },
   "outputs": [],
   "source": [
    "import os\n",
    "access_token = os.environ['huggingface_key']"
   ]
  },
  {
   "cell_type": "code",
   "execution_count": null,
   "id": "05ba81a0-6e9c-4ad8-a0a2-a2a2498adc5f",
   "metadata": {
    "tags": []
   },
   "outputs": [],
   "source": [
    "os.environ['HF_HOME'] = '/home/jupyter/datasphere/project/modelcache'\n",
    "os.environ['TRANSFORMERS_CACHE'] = '/home/jupyter/datasphere/project/modelcache'\n",
    "os.environ['XDG_CACHE_HOME'] = '/home/jupyter/datasphere/project/modelcache'\n",
    "os.environ['HF_DATASETS_CACHE'] = '/home/jupyter/datasphere/project/modelcache'\n",
    "os.environ['HUGGINGFACE_HUB_CACHE'] = '/home/jupyter/datasphere/project/modelcache'"
   ]
  },
  {
   "cell_type": "markdown",
   "id": "d5ad7b23-09f8-4578-b669-de9755f0a5b5",
   "metadata": {},
   "source": [
    "### Определяем и скачиваем модель"
   ]
  },
  {
   "cell_type": "code",
   "execution_count": null,
   "id": "0408016e-e426-42d7-95ca-c20564d77478",
   "metadata": {
    "tags": []
   },
   "outputs": [],
   "source": [
    "# Load model directly\n",
    "from transformers import AutoTokenizer, AutoModelForCausalLM\n",
    "\n",
    "tokenizer = AutoTokenizer.from_pretrained(\"mistralai/Mistral-7B-Instruct-v0.3\", token=access_token, use_fast=False, local_files_only=True)\n",
    "model = AutoModelForCausalLM.from_pretrained(\"mistralai/Mistral-7B-Instruct-v0.3\", token=access_token, local_files_only=True)\n",
    "model.to(\"cuda\")\n",
    "\n"
   ]
  },
  {
   "cell_type": "markdown",
   "id": "9f2e04d9-5949-4c7e-99dc-6ed592281397",
   "metadata": {},
   "source": [
    "### Делаем запрос к модели"
   ]
  },
  {
   "cell_type": "code",
   "execution_count": null,
   "id": "09092682-0959-4f2c-a0d9-3659b6d92383",
   "metadata": {
    "tags": []
   },
   "outputs": [],
   "source": [
    "pad_token_idmessages = [\n",
    "    {\"role\": \"user\", \"content\": \"What is your favourite condiment?\"},\n",
    "    {\"role\": \"assistant\", \"content\": \"Well, I'm quite partial to a good squeeze of fresh lemon juice. It adds just the right amount of zesty flavour to whatever I'm cooking up in the kitchen!\"},\n",
    "    {\"role\": \"user\", \"content\": \"Do you have mayonnaise recipes?\"}\n",
    "]\n",
    "\n",
    "encodeds = tokenizer.apply_chat_template(messages, return_tensors=\"pt\")\n",
    "model_inputs = encodeds.to(\"cuda\")\n",
    "model.to(\"cuda\")\n",
    "\n",
    "generated_ids = model.generate(model_inputs, max_new_tokens=1000, do_sample=True, pad_token_id=tokenizer.eos_token_id)\n",
    "decoded = tokenizer.batch_decode(generated_ids)\n",
    "print(decoded[0])"
   ]
  },
  {
   "cell_type": "code",
   "execution_count": null,
   "id": "81c5ef7e-13a7-4ceb-b30a-5645e6cde55c",
   "metadata": {},
   "outputs": [],
   "source": []
  }
 ],
 "metadata": {
  "kernelspec": {
   "display_name": "DataSphere Kernel",
   "language": "python",
   "name": "python3"
  },
  "language_info": {
   "codemirror_mode": {
    "name": "ipython",
    "version": 3
   },
   "file_extension": ".py",
   "mimetype": "text/x-python",
   "name": "python",
   "nbconvert_exporter": "python",
   "pygments_lexer": "ipython3",
   "version": "3.10.12"
  }
 },
 "nbformat": 4,
 "nbformat_minor": 5
}
